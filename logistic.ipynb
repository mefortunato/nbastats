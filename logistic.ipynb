{
 "cells": [
  {
   "cell_type": "code",
   "execution_count": 20,
   "metadata": {},
   "outputs": [],
   "source": [
    "import numpy as np\n",
    "import pandas as pd\n",
    "pd.options.display.max_columns = None\n",
    "import statsmodels.api as sm\n",
    "from sklearn import metrics\n",
    "from sklearn import preprocessing\n",
    "from sklearn.model_selection import train_test_split\n",
    "from sklearn.linear_model import LogisticRegression\n",
    "import matplotlib.pyplot as plt\n",
    "import seaborn as sns\n",
    "sns.set(style=\"white\")"
   ]
  },
  {
   "cell_type": "code",
   "execution_count": 31,
   "metadata": {},
   "outputs": [],
   "source": [
    "STATS = ['PTS', 'FG2M', 'FG2A', 'FG2_PCT', 'FG3M', 'FG3A', 'FG3_PCT', 'FTM', 'FTA', 'FT_PCT', 'DREB', 'OREB', 'AST', 'STL', 'BLK', 'TOV', 'PF']\n",
    "AVG_STATS = ['AVG_'+stat for stat in STATS]\n",
    "OPP_AVG_STATS = ['OPP_'+stat for stat in AVG_STATS]\n",
    "TRAIN_STATS = ['LOCATION_W_PCT']+AVG_STATS+OPP_AVG_STATS"
   ]
  },
  {
   "cell_type": "code",
   "execution_count": 32,
   "metadata": {},
   "outputs": [],
   "source": [
    "data = pd.read_csv('dat/expanding_avg_1983-2017.csv', index_col=0)"
   ]
  },
  {
   "cell_type": "code",
   "execution_count": 33,
   "metadata": {},
   "outputs": [],
   "source": [
    "# drop if first game for either team\n",
    "data = data.loc[~data[['AVG_PTS', 'OPP_AVG_PTS']].isna().any(axis=1)]"
   ]
  },
  {
   "cell_type": "code",
   "execution_count": 34,
   "metadata": {},
   "outputs": [],
   "source": [
    "# drop away games\n",
    "data = data.loc[data['HOME'] == 1]"
   ]
  },
  {
   "cell_type": "code",
   "execution_count": 35,
   "metadata": {},
   "outputs": [
    {
     "name": "stdout",
     "output_type": "stream",
     "text": [
      "Warning: Maximum number of iterations has been exceeded.\n",
      "         Current function value: 0.604030\n",
      "         Iterations: 35\n"
     ]
    },
    {
     "name": "stderr",
     "output_type": "stream",
     "text": [
      "/home/vagrant/.local/share/virtualenvs/vagrant-G6U0N2py/lib/python3.6/site-packages/statsmodels/base/model.py:508: ConvergenceWarning: Maximum Likelihood optimization failed to converge. Check mle_retvals\n",
      "  \"Check mle_retvals\", ConvergenceWarning)\n"
     ]
    },
    {
     "name": "stdout",
     "output_type": "stream",
     "text": [
      "                           Logit Regression Results                           \n",
      "==============================================================================\n",
      "Dep. Variable:                      W   No. Observations:                36474\n",
      "Model:                          Logit   Df Residuals:                    36441\n",
      "Method:                           MLE   Df Model:                           32\n",
      "Date:                Thu, 21 Jun 2018   Pseudo R-squ.:                 0.09716\n",
      "Time:                        15:09:29   Log-Likelihood:                -22031.\n",
      "converged:                      False   LL-Null:                       -24402.\n",
      "                                        LLR p-value:                     0.000\n",
      "===================================================================================\n",
      "                      coef    std err          z      P>|z|      [0.025      0.975]\n",
      "-----------------------------------------------------------------------------------\n",
      "LOCATION_W_PCT      2.1044      0.183     11.501      0.000       1.746       2.463\n",
      "AVG_PTS          -430.4517        nan        nan        nan         nan         nan\n",
      "AVG_FG2M          861.0188        nan        nan        nan         nan         nan\n",
      "AVG_FG2A           -0.1329      0.019     -6.831      0.000      -0.171      -0.095\n",
      "AVG_FG2_PCT         2.3798      2.673      0.890      0.373      -2.860       7.620\n",
      "AVG_FG3M         1291.5539        nan        nan        nan         nan         nan\n",
      "AVG_FG3A           -0.1323      0.013    -10.333      0.000      -0.157      -0.107\n",
      "AVG_FG3_PCT         0.2864      0.350      0.819      0.413      -0.399       0.972\n",
      "AVG_FTM           430.5103        nan        nan        nan         nan         nan\n",
      "AVG_FTA            -0.0305      0.037     -0.817      0.414      -0.104       0.043\n",
      "AVG_FT_PCT          0.1673      1.261      0.133      0.894      -2.305       2.640\n",
      "AVG_DREB            0.1470      0.008     19.522      0.000       0.132       0.162\n",
      "AVG_OREB            0.1592      0.011     14.911      0.000       0.138       0.180\n",
      "AVG_AST             0.0429      0.007      6.000      0.000       0.029       0.057\n",
      "AVG_STL             0.1714      0.011     14.917      0.000       0.149       0.194\n",
      "AVG_BLK             0.0372      0.011      3.304      0.001       0.015       0.059\n",
      "AVG_TOV            -0.1967      0.009    -22.340      0.000      -0.214      -0.179\n",
      "AVG_PF             -0.0006      0.007     -0.097      0.923      -0.014       0.012\n",
      "OPP_AVG_PTS        -0.0441   3945.617  -1.12e-05      1.000   -7733.312    7733.223\n",
      "OPP_AVG_FG2M        0.0137   7891.234   1.74e-06      1.000   -1.55e+04    1.55e+04\n",
      "OPP_AVG_FG2A        0.1326      0.020      6.778      0.000       0.094       0.171\n",
      "OPP_AVG_FG2_PCT    -5.7173      2.660     -2.150      0.032     -10.930      -0.504\n",
      "OPP_AVG_FG3M       -0.0368   1.18e+04  -3.11e-06      1.000   -2.32e+04    2.32e+04\n",
      "OPP_AVG_FG3A        0.1275      0.013     10.127      0.000       0.103       0.152\n",
      "OPP_AVG_FG3_PCT     0.0938      0.350      0.268      0.789      -0.592       0.779\n",
      "OPP_AVG_FTM         0.0391   3945.617   9.91e-06      1.000   -7733.228    7733.307\n",
      "OPP_AVG_FTA         0.0055      0.038      0.144      0.886      -0.069       0.080\n",
      "OPP_AVG_FT_PCT     -1.7513      1.288     -1.360      0.174      -4.275       0.773\n",
      "OPP_AVG_DREB       -0.1406      0.007    -18.979      0.000      -0.155      -0.126\n",
      "OPP_AVG_OREB       -0.1701      0.011    -15.958      0.000      -0.191      -0.149\n",
      "OPP_AVG_AST        -0.0495      0.007     -6.943      0.000      -0.064      -0.036\n",
      "OPP_AVG_STL        -0.1513      0.011    -13.486      0.000      -0.173      -0.129\n",
      "OPP_AVG_BLK        -0.0253      0.011     -2.228      0.026      -0.047      -0.003\n",
      "OPP_AVG_TOV         0.1949      0.009     21.851      0.000       0.177       0.212\n",
      "OPP_AVG_PF          0.0013      0.007      0.198      0.843      -0.012       0.014\n",
      "===================================================================================\n"
     ]
    },
    {
     "name": "stderr",
     "output_type": "stream",
     "text": [
      "/home/vagrant/.local/share/virtualenvs/vagrant-G6U0N2py/lib/python3.6/site-packages/statsmodels/base/model.py:1092: RuntimeWarning: invalid value encountered in sqrt\n",
      "  bse_ = np.sqrt(np.diag(self.cov_params()))\n",
      "/home/vagrant/.local/share/virtualenvs/vagrant-G6U0N2py/lib/python3.6/site-packages/scipy/stats/_distn_infrastructure.py:879: RuntimeWarning: invalid value encountered in greater\n",
      "  return (self.a < x) & (x < self.b)\n",
      "/home/vagrant/.local/share/virtualenvs/vagrant-G6U0N2py/lib/python3.6/site-packages/scipy/stats/_distn_infrastructure.py:879: RuntimeWarning: invalid value encountered in less\n",
      "  return (self.a < x) & (x < self.b)\n",
      "/home/vagrant/.local/share/virtualenvs/vagrant-G6U0N2py/lib/python3.6/site-packages/scipy/stats/_distn_infrastructure.py:1821: RuntimeWarning: invalid value encountered in less_equal\n",
      "  cond2 = cond0 & (x <= self.a)\n"
     ]
    }
   ],
   "source": [
    "X = data\n",
    "y = data['W']\n",
    "logit_model = sm.Logit(y, X[TRAIN_STATS])\n",
    "result=logit_model.fit()\n",
    "print(result.summary())"
   ]
  },
  {
   "cell_type": "markdown",
   "metadata": {},
   "source": [
    "# Accuracy of training"
   ]
  },
  {
   "cell_type": "code",
   "execution_count": 36,
   "metadata": {},
   "outputs": [
    {
     "data": {
      "text/plain": [
       "LogisticRegression(C=1.0, class_weight=None, dual=False, fit_intercept=True,\n",
       "          intercept_scaling=1, max_iter=100, multi_class='ovr', n_jobs=1,\n",
       "          penalty='l2', random_state=None, solver='liblinear', tol=0.0001,\n",
       "          verbose=0, warm_start=False)"
      ]
     },
     "execution_count": 36,
     "metadata": {},
     "output_type": "execute_result"
    }
   ],
   "source": [
    "logreg = LogisticRegression()\n",
    "logreg.fit(X[TRAIN_STATS], y)"
   ]
  },
  {
   "cell_type": "code",
   "execution_count": 37,
   "metadata": {},
   "outputs": [
    {
     "name": "stdout",
     "output_type": "stream",
     "text": [
      "Accuracy of logistic regression classifier on test set: 0.67\n"
     ]
    }
   ],
   "source": [
    "y_pred = logreg.predict(X[TRAIN_STATS])\n",
    "print('Accuracy of logistic regression classifier on test set: {:.2f}'.format(logreg.score(X[TRAIN_STATS], y)))"
   ]
  },
  {
   "cell_type": "markdown",
   "metadata": {},
   "source": [
    "# Train on 70% and test 30%"
   ]
  },
  {
   "cell_type": "code",
   "execution_count": 38,
   "metadata": {},
   "outputs": [
    {
     "data": {
      "text/plain": [
       "LogisticRegression(C=1.0, class_weight=None, dual=False, fit_intercept=True,\n",
       "          intercept_scaling=1, max_iter=100, multi_class='ovr', n_jobs=1,\n",
       "          penalty='l2', random_state=None, solver='liblinear', tol=0.0001,\n",
       "          verbose=0, warm_start=False)"
      ]
     },
     "execution_count": 38,
     "metadata": {},
     "output_type": "execute_result"
    }
   ],
   "source": [
    "X_train, X_test, y_train, y_test = train_test_split(X, y, test_size=0.3)\n",
    "logreg = LogisticRegression()\n",
    "logreg.fit(X_train[TRAIN_STATS], y_train)"
   ]
  },
  {
   "cell_type": "code",
   "execution_count": 39,
   "metadata": {},
   "outputs": [
    {
     "name": "stdout",
     "output_type": "stream",
     "text": [
      "Accuracy of logistic regression classifier on test set: 0.67\n"
     ]
    }
   ],
   "source": [
    "y_pred = logreg.predict(X_test[TRAIN_STATS])\n",
    "print('Accuracy of logistic regression classifier on test set: {:.2f}'.format(logreg.score(X_test[TRAIN_STATS], y_test)))"
   ]
  },
  {
   "cell_type": "code",
   "execution_count": 40,
   "metadata": {},
   "outputs": [],
   "source": [
    "season_results = {}"
   ]
  },
  {
   "cell_type": "code",
   "execution_count": 41,
   "metadata": {},
   "outputs": [
    {
     "name": "stdout",
     "output_type": "stream",
     "text": [
      "22016: Accuracy of logistic regression classifier on test set: 0.65\n",
      "22017: Accuracy of logistic regression classifier on test set: 0.66\n",
      "21985: Accuracy of logistic regression classifier on test set: 0.66\n",
      "21986: Accuracy of logistic regression classifier on test set: 0.70\n",
      "21987: Accuracy of logistic regression classifier on test set: 0.69\n",
      "21988: Accuracy of logistic regression classifier on test set: 0.72\n",
      "21989: Accuracy of logistic regression classifier on test set: 0.71\n",
      "21990: Accuracy of logistic regression classifier on test set: 0.70\n",
      "21991: Accuracy of logistic regression classifier on test set: 0.68\n",
      "21992: Accuracy of logistic regression classifier on test set: 0.67\n",
      "21993: Accuracy of logistic regression classifier on test set: 0.70\n",
      "21994: Accuracy of logistic regression classifier on test set: 0.67\n",
      "21995: Accuracy of logistic regression classifier on test set: 0.69\n",
      "21996: Accuracy of logistic regression classifier on test set: 0.68\n",
      "21997: Accuracy of logistic regression classifier on test set: 0.70\n",
      "21999: Accuracy of logistic regression classifier on test set: 0.66\n",
      "22000: Accuracy of logistic regression classifier on test set: 0.66\n",
      "22001: Accuracy of logistic regression classifier on test set: 0.63\n",
      "22002: Accuracy of logistic regression classifier on test set: 0.67\n",
      "22003: Accuracy of logistic regression classifier on test set: 0.63\n",
      "22004: Accuracy of logistic regression classifier on test set: 0.64\n",
      "22005: Accuracy of logistic regression classifier on test set: 0.63\n",
      "22006: Accuracy of logistic regression classifier on test set: 0.63\n",
      "22007: Accuracy of logistic regression classifier on test set: 0.68\n",
      "22008: Accuracy of logistic regression classifier on test set: 0.71\n",
      "22009: Accuracy of logistic regression classifier on test set: 0.66\n",
      "22010: Accuracy of logistic regression classifier on test set: 0.67\n",
      "22011: Accuracy of logistic regression classifier on test set: 0.64\n",
      "22012: Accuracy of logistic regression classifier on test set: 0.66\n",
      "22013: Accuracy of logistic regression classifier on test set: 0.64\n",
      "22014: Accuracy of logistic regression classifier on test set: 0.67\n",
      "22015: Accuracy of logistic regression classifier on test set: 0.69\n"
     ]
    }
   ],
   "source": [
    "for season in set(X['SEASON_ID'].values):\n",
    "    X_train = X.loc[X['SEASON_ID'] != season]\n",
    "    X_test = X.loc[X['SEASON_ID'] == season]\n",
    "    y_train = X_train['W']\n",
    "    y_test = X_test['W']\n",
    "\n",
    "    logreg = LogisticRegression()\n",
    "    logreg.fit(X_train[TRAIN_STATS], y_train)\n",
    "\n",
    "    y_pred = logreg.predict(X_test[TRAIN_STATS])\n",
    "    accuracy = logreg.score(X_test[TRAIN_STATS], y_test)\n",
    "    season_results[season] = accuracy\n",
    "    print('{}: Accuracy of logistic regression classifier on test set: {:.2f}'.format(season, accuracy))"
   ]
  },
  {
   "cell_type": "code",
   "execution_count": 42,
   "metadata": {},
   "outputs": [],
   "source": [
    "res = sorted(season_results.items(), key=lambda x: x[0])\n",
    "x = list(map(lambda x: \"'\" + str(int(x[0]))[3:], res))\n",
    "y = list(map(lambda x: x[1], res))"
   ]
  },
  {
   "cell_type": "code",
   "execution_count": 43,
   "metadata": {},
   "outputs": [
    {
     "data": {
      "image/png": "[encoded data removed]",
      "text/plain": [
       "<Figure size 720x432 with 1 Axes>"
      ]
     },
     "metadata": {},
     "output_type": "display_data"
    }
   ],
   "source": [
    "fig = plt.figure(figsize=(10, 6))\n",
    "plt.plot(x, y)\n",
    "plt.show()"
   ]
  }
 ],
 "metadata": {
  "kernelspec": {
   "display_name": "Python 3",
   "language": "python",
   "name": "python3"
  },
  "language_info": {
   "codemirror_mode": {
    "name": "ipython",
    "version": 3
   },
   "file_extension": ".py",
   "mimetype": "text/x-python",
   "name": "python",
   "nbconvert_exporter": "python",
   "pygments_lexer": "ipython3",
   "version": "3.6.2"
  }
 },
 "nbformat": 4,
 "nbformat_minor": 2
}
