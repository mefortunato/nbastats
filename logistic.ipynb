{
 "cells": [
  {
   "cell_type": "code",
   "execution_count": 4,
   "metadata": {},
   "outputs": [],
   "source": [
    "import numpy as np\n",
    "import pandas as pd\n",
    "pd.options.display.max_columns = None\n",
    "import statsmodels.api as sm\n",
    "from sklearn import metrics\n",
    "from sklearn import preprocessing\n",
    "from sklearn.model_selection import train_test_split\n",
    "from sklearn.linear_model import LogisticRegression\n",
    "import matplotlib.pyplot as plt\n",
    "import seaborn as sns\n",
    "sns.set(style=\"white\")"
   ]
  },
  {
   "cell_type": "code",
   "execution_count": 9,
   "metadata": {},
   "outputs": [],
   "source": [
    "STATS = ['PTS', 'FG2M', 'FG2A', 'FG2_PCT', 'FG3M', 'FG3A', 'FG3_PCT', 'FTM', 'FTA', 'FT_PCT', 'DREB', 'OREB', 'AST', 'STL', 'BLK', 'TOV', 'PF']\n",
    "AVG_STATS = ['AVG_'+stat for stat in STATS]\n",
    "OPP_AVG_STATS = ['OPP_'+stat for stat in AVG_STATS]\n",
    "#TRAIN_STATS = ['LOCATION_W_PCT']+AVG_STATS+OPP_AVG_STATS\n",
    "#TRAIN_STATS = ['AVG_PTS', 'AVG_PTS_A', 'OPP_AVG_PTS', 'OPP_AVG_PTS_A'] #, 'LOCATION_W_PCT']\n",
    "TRAIN_STATS = ['PYE_H', 'PYE_A']"
   ]
  },
  {
   "cell_type": "code",
   "execution_count": 6,
   "metadata": {},
   "outputs": [],
   "source": [
    "data = pd.read_csv('dat/expanding_avg_1983-2017.csv', index_col=0)"
   ]
  },
  {
   "cell_type": "code",
   "execution_count": 7,
   "metadata": {},
   "outputs": [],
   "source": [
    "# drop if first game for either team\n",
    "data = data.loc[~data[['AVG_PTS', 'OPP_AVG_PTS']].isna().any(axis=1)]"
   ]
  },
  {
   "cell_type": "code",
   "execution_count": 8,
   "metadata": {},
   "outputs": [],
   "source": [
    "# drop away games\n",
    "data = data.loc[data['HOME'] == 1]"
   ]
  },
  {
   "cell_type": "code",
   "execution_count": 10,
   "metadata": {},
   "outputs": [
    {
     "name": "stdout",
     "output_type": "stream",
     "text": [
      "Optimization terminated successfully.\n",
      "         Current function value: 0.600480\n",
      "         Iterations 5\n",
      "                           Logit Regression Results                           \n",
      "==============================================================================\n",
      "Dep. Variable:                      W   No. Observations:                36474\n",
      "Model:                          Logit   Df Residuals:                    36472\n",
      "Method:                           MLE   Df Model:                            1\n",
      "Date:                Thu, 21 Jun 2018   Pseudo R-squ.:                  0.1025\n",
      "Time:                        21:09:12   Log-Likelihood:                -21902.\n",
      "converged:                       True   LL-Null:                       -24402.\n",
      "                                        LLR p-value:                     0.000\n",
      "==============================================================================\n",
      "                 coef    std err          z      P>|z|      [0.025      0.975]\n",
      "------------------------------------------------------------------------------\n",
      "PYE_H          4.0668      0.058     69.677      0.000       3.952       4.181\n",
      "PYE_A         -3.0492      0.054    -56.034      0.000      -3.156      -2.943\n",
      "==============================================================================\n"
     ]
    }
   ],
   "source": [
    "X = data\n",
    "y = data['W']\n",
    "logit_model = sm.Logit(y, X[TRAIN_STATS])\n",
    "result=logit_model.fit()\n",
    "print(result.summary())"
   ]
  },
  {
   "cell_type": "markdown",
   "metadata": {},
   "source": [
    "# Accuracy of training"
   ]
  },
  {
   "cell_type": "code",
   "execution_count": 11,
   "metadata": {},
   "outputs": [
    {
     "data": {
      "text/plain": [
       "LogisticRegression(C=1.0, class_weight=None, dual=False, fit_intercept=True,\n",
       "          intercept_scaling=1, max_iter=100, multi_class='ovr', n_jobs=1,\n",
       "          penalty='l2', random_state=None, solver='liblinear', tol=0.0001,\n",
       "          verbose=0, warm_start=False)"
      ]
     },
     "execution_count": 11,
     "metadata": {},
     "output_type": "execute_result"
    }
   ],
   "source": [
    "logreg = LogisticRegression()\n",
    "logreg.fit(X[TRAIN_STATS], y)"
   ]
  },
  {
   "cell_type": "code",
   "execution_count": 12,
   "metadata": {},
   "outputs": [
    {
     "name": "stdout",
     "output_type": "stream",
     "text": [
      "Accuracy of logistic regression classifier on test set: 0.68\n"
     ]
    }
   ],
   "source": [
    "y_pred = logreg.predict(X[TRAIN_STATS])\n",
    "print('Accuracy of logistic regression classifier on test set: {:.2f}'.format(logreg.score(X[TRAIN_STATS], y)))"
   ]
  },
  {
   "cell_type": "markdown",
   "metadata": {},
   "source": [
    "# Train on 70% and test 30%"
   ]
  },
  {
   "cell_type": "code",
   "execution_count": 13,
   "metadata": {},
   "outputs": [
    {
     "data": {
      "text/plain": [
       "LogisticRegression(C=1.0, class_weight=None, dual=False, fit_intercept=True,\n",
       "          intercept_scaling=1, max_iter=100, multi_class='ovr', n_jobs=1,\n",
       "          penalty='l2', random_state=None, solver='liblinear', tol=0.0001,\n",
       "          verbose=0, warm_start=False)"
      ]
     },
     "execution_count": 13,
     "metadata": {},
     "output_type": "execute_result"
    }
   ],
   "source": [
    "X_train, X_test, y_train, y_test = train_test_split(X, y, test_size=0.3)\n",
    "logreg = LogisticRegression()\n",
    "logreg.fit(X_train[TRAIN_STATS], y_train)"
   ]
  },
  {
   "cell_type": "code",
   "execution_count": 14,
   "metadata": {},
   "outputs": [
    {
     "name": "stdout",
     "output_type": "stream",
     "text": [
      "Accuracy of logistic regression classifier on test set: 0.67\n"
     ]
    }
   ],
   "source": [
    "y_pred = logreg.predict(X_test[TRAIN_STATS])\n",
    "print('Accuracy of logistic regression classifier on test set: {:.2f}'.format(logreg.score(X_test[TRAIN_STATS], y_test)))"
   ]
  },
  {
   "cell_type": "code",
   "execution_count": 15,
   "metadata": {},
   "outputs": [],
   "source": [
    "season_results = {}"
   ]
  },
  {
   "cell_type": "code",
   "execution_count": 16,
   "metadata": {},
   "outputs": [
    {
     "name": "stdout",
     "output_type": "stream",
     "text": [
      "22016: Accuracy of logistic regression classifier on test set: 0.62\n",
      "22017: Accuracy of logistic regression classifier on test set: 0.65\n",
      "21985: Accuracy of logistic regression classifier on test set: 0.67\n",
      "21986: Accuracy of logistic regression classifier on test set: 0.69\n",
      "21987: Accuracy of logistic regression classifier on test set: 0.71\n",
      "21988: Accuracy of logistic regression classifier on test set: 0.73\n",
      "21989: Accuracy of logistic regression classifier on test set: 0.71\n",
      "21990: Accuracy of logistic regression classifier on test set: 0.69\n",
      "21991: Accuracy of logistic regression classifier on test set: 0.69\n",
      "21992: Accuracy of logistic regression classifier on test set: 0.66\n",
      "21993: Accuracy of logistic regression classifier on test set: 0.72\n",
      "21994: Accuracy of logistic regression classifier on test set: 0.69\n",
      "21995: Accuracy of logistic regression classifier on test set: 0.71\n",
      "21996: Accuracy of logistic regression classifier on test set: 0.68\n",
      "21997: Accuracy of logistic regression classifier on test set: 0.72\n",
      "21999: Accuracy of logistic regression classifier on test set: 0.69\n",
      "22000: Accuracy of logistic regression classifier on test set: 0.67\n",
      "22001: Accuracy of logistic regression classifier on test set: 0.64\n",
      "22002: Accuracy of logistic regression classifier on test set: 0.67\n",
      "22003: Accuracy of logistic regression classifier on test set: 0.65\n",
      "22004: Accuracy of logistic regression classifier on test set: 0.66\n",
      "22005: Accuracy of logistic regression classifier on test set: 0.65\n",
      "22006: Accuracy of logistic regression classifier on test set: 0.63\n",
      "22007: Accuracy of logistic regression classifier on test set: 0.68\n",
      "22008: Accuracy of logistic regression classifier on test set: 0.70\n",
      "22009: Accuracy of logistic regression classifier on test set: 0.68\n",
      "22010: Accuracy of logistic regression classifier on test set: 0.69\n",
      "22011: Accuracy of logistic regression classifier on test set: 0.65\n",
      "22012: Accuracy of logistic regression classifier on test set: 0.67\n",
      "22013: Accuracy of logistic regression classifier on test set: 0.65\n",
      "22014: Accuracy of logistic regression classifier on test set: 0.67\n",
      "22015: Accuracy of logistic regression classifier on test set: 0.68\n"
     ]
    }
   ],
   "source": [
    "for season in set(X['SEASON_ID'].values):\n",
    "    X_train = X.loc[X['SEASON_ID'] != season]\n",
    "    X_test = X.loc[X['SEASON_ID'] == season]\n",
    "    y_train = X_train['W']\n",
    "    y_test = X_test['W']\n",
    "\n",
    "    logreg = LogisticRegression()\n",
    "    logreg.fit(X_train[TRAIN_STATS], y_train)\n",
    "\n",
    "    y_pred = logreg.predict(X_test[TRAIN_STATS])\n",
    "    accuracy = logreg.score(X_test[TRAIN_STATS], y_test)\n",
    "    season_results[season] = accuracy\n",
    "    print('{}: Accuracy of logistic regression classifier on test set: {:.2f}'.format(season, accuracy))"
   ]
  },
  {
   "cell_type": "code",
   "execution_count": 17,
   "metadata": {},
   "outputs": [],
   "source": [
    "res = sorted(season_results.items(), key=lambda x: x[0])\n",
    "x = list(map(lambda x: \"'\" + str(int(x[0]))[3:], res))\n",
    "y = list(map(lambda x: x[1], res))"
   ]
  },
  {
   "cell_type": "code",
   "execution_count": 18,
   "metadata": {},
   "outputs": [
    {
     "data": {
      "image/png": "[encoded data removed]",
      "text/plain": [
       "<Figure size 720x432 with 1 Axes>"
      ]
     },
     "metadata": {},
     "output_type": "display_data"
    }
   ],
   "source": [
    "fig = plt.figure(figsize=(10, 6))\n",
    "plt.plot(x, y)\n",
    "plt.show()"
   ]
  }
 ],
 "metadata": {
  "kernelspec": {
   "display_name": "Python 3",
   "language": "python",
   "name": "python3"
  },
  "language_info": {
   "codemirror_mode": {
    "name": "ipython",
    "version": 3
   },
   "file_extension": ".py",
   "mimetype": "text/x-python",
   "name": "python",
   "nbconvert_exporter": "python",
   "pygments_lexer": "ipython3",
   "version": "3.6.2"
  }
 },
 "nbformat": 4,
 "nbformat_minor": 2
}
