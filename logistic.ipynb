{
 "cells": [
  {
   "cell_type": "code",
   "execution_count": 1,
   "metadata": {},
   "outputs": [],
   "source": [
    "import numpy as np\n",
    "import pandas as pd\n",
    "pd.options.display.max_columns = None\n",
    "import statsmodels.api as sm\n",
    "from sklearn import metrics\n",
    "from sklearn import preprocessing\n",
    "from sklearn.model_selection import train_test_split\n",
    "from sklearn.linear_model import LogisticRegression\n",
    "import matplotlib.pyplot as plt\n",
    "import seaborn as sns\n",
    "sns.set(style=\"white\")\n",
    "sns.set(style=\"whitegrid\", color_codes=True)"
   ]
  },
  {
   "cell_type": "code",
   "execution_count": 4,
   "metadata": {},
   "outputs": [],
   "source": [
    "STATS = ['PTS', 'FG2M', 'FG2A', 'FG2_PCT', 'FG3M', 'FG3A', 'FG3_PCT', 'FTM', 'FTA', 'FT_PCT', 'DREB', 'OREB', 'AST', 'STL', 'BLK', 'TOV', 'PF']\n",
    "AVG_STATS = ['AVG_'+stat for stat in STATS]\n",
    "OPP_AVG_STATS = ['OPP_'+stat for stat in AVG_STATS]\n",
    "TRAIN_STATS = ['HOME']+AVG_STATS+OPP_AVG_STATS"
   ]
  },
  {
   "cell_type": "code",
   "execution_count": 5,
   "metadata": {},
   "outputs": [],
   "source": [
    "data = pd.read_csv('dat/expanding_avg_1983-2017.csv', index_col=0)"
   ]
  },
  {
   "cell_type": "code",
   "execution_count": 7,
   "metadata": {},
   "outputs": [],
   "source": [
    "# drop if first game for either team\n",
    "data = data.loc[~data[['AVG_PTS', 'OPP_AVG_PTS']].isna().any(axis=1)]"
   ]
  },
  {
   "cell_type": "code",
   "execution_count": 8,
   "metadata": {},
   "outputs": [],
   "source": [
    "# drop away games\n",
    "data = data.loc[data['HOME'] == 1]"
   ]
  },
  {
   "cell_type": "code",
   "execution_count": 9,
   "metadata": {},
   "outputs": [
    {
     "name": "stdout",
     "output_type": "stream",
     "text": [
      "Optimization terminated successfully.\n",
      "         Current function value: 0.606556\n",
      "         Iterations 8\n",
      "                           Logit Regression Results                           \n",
      "==============================================================================\n",
      "Dep. Variable:                      W   No. Observations:                38334\n",
      "Model:                          Logit   Df Residuals:                    38299\n",
      "Method:                           MLE   Df Model:                           34\n",
      "Date:                Wed, 20 Jun 2018   Pseudo R-squ.:                 0.09192\n",
      "Time:                        22:06:54   Log-Likelihood:                -23252.\n",
      "converged:                       True   LL-Null:                       -25605.\n",
      "                                        LLR p-value:                     0.000\n",
      "===================================================================================\n",
      "                      coef    std err          z      P>|z|      [0.025      0.975]\n",
      "-----------------------------------------------------------------------------------\n",
      "HOME               -3.0229      2.418     -1.250      0.211      -7.763       1.717\n",
      "AVG_PTS            43.9592     23.076      1.905      0.057      -1.269      89.188\n",
      "AVG_FG2M          -87.8321     46.154     -1.903      0.057    -178.293       2.628\n",
      "AVG_FG2A           -0.1258      0.022     -5.818      0.000      -0.168      -0.083\n",
      "AVG_FG2_PCT         5.2911      3.023      1.750      0.080      -0.634      11.216\n",
      "AVG_FG3M         -131.6646     69.228     -1.902      0.057    -267.350       4.020\n",
      "AVG_FG3A           -0.1424      0.012    -11.908      0.000      -0.166      -0.119\n",
      "AVG_FG3_PCT         0.4483      0.296      1.517      0.129      -0.131       1.028\n",
      "AVG_FTM           -43.9336     23.076     -1.904      0.057     -89.162       1.295\n",
      "AVG_FTA            -0.0052      0.039     -0.133      0.894      -0.082       0.071\n",
      "AVG_FT_PCT          0.9071      1.339      0.678      0.498      -1.717       3.531\n",
      "AVG_DREB            0.1523      0.007     21.337      0.000       0.138       0.166\n",
      "AVG_OREB            0.1704      0.010     16.803      0.000       0.151       0.190\n",
      "AVG_AST             0.0444      0.007      6.439      0.000       0.031       0.058\n",
      "AVG_STL             0.1799      0.011     16.225      0.000       0.158       0.202\n",
      "AVG_BLK             0.0473      0.011      4.359      0.000       0.026       0.069\n",
      "AVG_TOV            -0.2031      0.009    -23.868      0.000      -0.220      -0.186\n",
      "AVG_PF              0.0031      0.006      0.479      0.632      -0.009       0.016\n",
      "OPP_AVG_PTS        17.4820     17.732      0.986      0.324     -17.273      52.237\n",
      "OPP_AVG_FG2M      -35.0709     35.467     -0.989      0.323    -104.585      34.443\n",
      "OPP_AVG_FG2A        0.1505      0.022      6.955      0.000       0.108       0.193\n",
      "OPP_AVG_FG2_PCT    -3.4222      2.983     -1.147      0.251      -9.269       2.425\n",
      "OPP_AVG_FG3M      -52.6072     53.197     -0.989      0.323    -156.872      51.658\n",
      "OPP_AVG_FG3A        0.1230      0.012     10.352      0.000       0.100       0.146\n",
      "OPP_AVG_FG3_PCT    -0.0146      0.296     -0.049      0.961      -0.594       0.565\n",
      "OPP_AVG_FTM       -17.5409     17.733     -0.989      0.323     -52.296      17.214\n",
      "OPP_AVG_FTA         0.0481      0.040      1.214      0.225      -0.030       0.126\n",
      "OPP_AVG_FT_PCT     -0.4439      1.366     -0.325      0.745      -3.122       2.234\n",
      "OPP_AVG_DREB       -0.1331      0.007    -18.607      0.000      -0.147      -0.119\n",
      "OPP_AVG_OREB       -0.1749      0.010    -17.008      0.000      -0.195      -0.155\n",
      "OPP_AVG_AST        -0.0514      0.007     -7.434      0.000      -0.065      -0.038\n",
      "OPP_AVG_STL        -0.1443      0.011    -13.280      0.000      -0.166      -0.123\n",
      "OPP_AVG_BLK        -0.0299      0.011     -2.741      0.006      -0.051      -0.009\n",
      "OPP_AVG_TOV         0.1918      0.009     22.276      0.000       0.175       0.209\n",
      "OPP_AVG_PF          0.0026      0.006      0.407      0.684      -0.010       0.015\n",
      "===================================================================================\n"
     ]
    }
   ],
   "source": [
    "X = data\n",
    "y = data['W']\n",
    "logit_model = sm.Logit(y, X[TRAIN_STATS])\n",
    "result=logit_model.fit()\n",
    "print(result.summary())"
   ]
  },
  {
   "cell_type": "markdown",
   "metadata": {},
   "source": [
    "# Accuracy of training"
   ]
  },
  {
   "cell_type": "code",
   "execution_count": 10,
   "metadata": {},
   "outputs": [
    {
     "data": {
      "text/plain": [
       "LogisticRegression(C=1.0, class_weight=None, dual=False, fit_intercept=True,\n",
       "          intercept_scaling=1, max_iter=100, multi_class='ovr', n_jobs=1,\n",
       "          penalty='l2', random_state=None, solver='liblinear', tol=0.0001,\n",
       "          verbose=0, warm_start=False)"
      ]
     },
     "execution_count": 10,
     "metadata": {},
     "output_type": "execute_result"
    }
   ],
   "source": [
    "logreg = LogisticRegression()\n",
    "logreg.fit(X[TRAIN_STATS], y)"
   ]
  },
  {
   "cell_type": "code",
   "execution_count": 11,
   "metadata": {},
   "outputs": [
    {
     "name": "stdout",
     "output_type": "stream",
     "text": [
      "Accuracy of logistic regression classifier on test set: 0.67\n"
     ]
    }
   ],
   "source": [
    "y_pred = logreg.predict(X[TRAIN_STATS])\n",
    "print('Accuracy of logistic regression classifier on test set: {:.2f}'.format(logreg.score(X[TRAIN_STATS], y)))"
   ]
  },
  {
   "cell_type": "markdown",
   "metadata": {},
   "source": [
    "# Train on 70% and test 30%"
   ]
  },
  {
   "cell_type": "code",
   "execution_count": 12,
   "metadata": {},
   "outputs": [
    {
     "data": {
      "text/plain": [
       "LogisticRegression(C=1.0, class_weight=None, dual=False, fit_intercept=True,\n",
       "          intercept_scaling=1, max_iter=100, multi_class='ovr', n_jobs=1,\n",
       "          penalty='l2', random_state=None, solver='liblinear', tol=0.0001,\n",
       "          verbose=0, warm_start=False)"
      ]
     },
     "execution_count": 12,
     "metadata": {},
     "output_type": "execute_result"
    }
   ],
   "source": [
    "X_train, X_test, y_train, y_test = train_test_split(X, y, test_size=0.3)\n",
    "logreg = LogisticRegression()\n",
    "logreg.fit(X_train[TRAIN_STATS], y_train)"
   ]
  },
  {
   "cell_type": "code",
   "execution_count": 13,
   "metadata": {},
   "outputs": [
    {
     "name": "stdout",
     "output_type": "stream",
     "text": [
      "Accuracy of logistic regression classifier on test set: 0.67\n"
     ]
    }
   ],
   "source": [
    "y_pred = logreg.predict(X_test[TRAIN_STATS])\n",
    "print('Accuracy of logistic regression classifier on test set: {:.2f}'.format(logreg.score(X_test[TRAIN_STATS], y_test)))"
   ]
  },
  {
   "cell_type": "code",
   "execution_count": 14,
   "metadata": {},
   "outputs": [],
   "source": [
    "season_results = {}"
   ]
  },
  {
   "cell_type": "code",
   "execution_count": 15,
   "metadata": {},
   "outputs": [
    {
     "name": "stdout",
     "output_type": "stream",
     "text": [
      "22016: Accuracy of logistic regression classifier on test set: 0.64\n",
      "22017: Accuracy of logistic regression classifier on test set: 0.65\n",
      "21983: Accuracy of logistic regression classifier on test set: 0.66\n",
      "21984: Accuracy of logistic regression classifier on test set: 0.68\n",
      "21985: Accuracy of logistic regression classifier on test set: 0.66\n",
      "21986: Accuracy of logistic regression classifier on test set: 0.71\n",
      "21987: Accuracy of logistic regression classifier on test set: 0.70\n",
      "21988: Accuracy of logistic regression classifier on test set: 0.71\n",
      "21989: Accuracy of logistic regression classifier on test set: 0.71\n",
      "21990: Accuracy of logistic regression classifier on test set: 0.70\n",
      "21991: Accuracy of logistic regression classifier on test set: 0.68\n",
      "21992: Accuracy of logistic regression classifier on test set: 0.66\n",
      "21993: Accuracy of logistic regression classifier on test set: 0.71\n",
      "21994: Accuracy of logistic regression classifier on test set: 0.68\n",
      "21995: Accuracy of logistic regression classifier on test set: 0.68\n",
      "21996: Accuracy of logistic regression classifier on test set: 0.67\n",
      "21997: Accuracy of logistic regression classifier on test set: 0.70\n",
      "21999: Accuracy of logistic regression classifier on test set: 0.67\n",
      "22000: Accuracy of logistic regression classifier on test set: 0.67\n",
      "22001: Accuracy of logistic regression classifier on test set: 0.64\n",
      "22002: Accuracy of logistic regression classifier on test set: 0.66\n",
      "22003: Accuracy of logistic regression classifier on test set: 0.63\n",
      "22004: Accuracy of logistic regression classifier on test set: 0.65\n",
      "22005: Accuracy of logistic regression classifier on test set: 0.65\n",
      "22006: Accuracy of logistic regression classifier on test set: 0.65\n",
      "22007: Accuracy of logistic regression classifier on test set: 0.68\n",
      "22008: Accuracy of logistic regression classifier on test set: 0.70\n",
      "22009: Accuracy of logistic regression classifier on test set: 0.65\n",
      "22010: Accuracy of logistic regression classifier on test set: 0.68\n",
      "22011: Accuracy of logistic regression classifier on test set: 0.63\n",
      "22012: Accuracy of logistic regression classifier on test set: 0.66\n",
      "22013: Accuracy of logistic regression classifier on test set: 0.64\n",
      "22014: Accuracy of logistic regression classifier on test set: 0.68\n",
      "22015: Accuracy of logistic regression classifier on test set: 0.69\n"
     ]
    }
   ],
   "source": [
    "for season in set(X['SEASON_ID'].values):\n",
    "    X_train = X.loc[X['SEASON_ID'] != season]\n",
    "    X_test = X.loc[X['SEASON_ID'] == season]\n",
    "    y_train = X_train['W']\n",
    "    y_test = X_test['W']\n",
    "\n",
    "    logreg = LogisticRegression()\n",
    "    logreg.fit(X_train[TRAIN_STATS], y_train)\n",
    "\n",
    "    y_pred = logreg.predict(X_test[TRAIN_STATS])\n",
    "    accuracy = logreg.score(X_test[TRAIN_STATS], y_test)\n",
    "    season_results[season] = accuracy\n",
    "    print('{}: Accuracy of logistic regression classifier on test set: {:.2f}'.format(season, accuracy))"
   ]
  },
  {
   "cell_type": "code",
   "execution_count": 16,
   "metadata": {},
   "outputs": [],
   "source": [
    "res = sorted(season_results.items(), key=lambda x: x[0])\n",
    "x = list(map(lambda x: \"'\" + str(int(x[0]))[3:], res))\n",
    "y = list(map(lambda x: x[1], res))"
   ]
  },
  {
   "cell_type": "code",
   "execution_count": 17,
   "metadata": {},
   "outputs": [
    {
     "data": {
      "image/png": "[encoded data removed]",
      "text/plain": [
       "<Figure size 720x432 with 1 Axes>"
      ]
     },
     "metadata": {},
     "output_type": "display_data"
    }
   ],
   "source": [
    "fig = plt.figure(figsize=(10, 6))\n",
    "plt.plot(x, y)\n",
    "plt.show()"
   ]
  }
 ],
 "metadata": {
  "kernelspec": {
   "display_name": "Python 3",
   "language": "python",
   "name": "python3"
  },
  "language_info": {
   "codemirror_mode": {
    "name": "ipython",
    "version": 3
   },
   "file_extension": ".py",
   "mimetype": "text/x-python",
   "name": "python",
   "nbconvert_exporter": "python",
   "pygments_lexer": "ipython3",
   "version": "3.6.2"
  }
 },
 "nbformat": 4,
 "nbformat_minor": 2
}
