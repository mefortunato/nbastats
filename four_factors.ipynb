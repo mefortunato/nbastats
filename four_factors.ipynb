{
 "cells": [
  {
   "cell_type": "code",
   "execution_count": 1,
   "metadata": {},
   "outputs": [],
   "source": [
    "import json\n",
    "import numpy as np\n",
    "import pandas as pd\n",
    "pd.options.display.max_columns = None\n",
    "import matplotlib.pyplot as plt"
   ]
  },
  {
   "cell_type": "code",
   "execution_count": 72,
   "metadata": {},
   "outputs": [],
   "source": [
    "BASE_FF = ['EFF_FG', 'TOV_PCT', 'REB_PCT', 'FT_PCT']\n",
    "FF = ['OFF_'+f for f in BASE_FF] + ['DEF_'+f for f in BASE_FF] + ['OPP_OFF_'+f for f in BASE_FF] + ['OPP_DEF_'+f for f in BASE_FF]"
   ]
  },
  {
   "cell_type": "code",
   "execution_count": 73,
   "metadata": {},
   "outputs": [],
   "source": [
    "data = pd.read_csv('dat/expanding_avg_1983-2017.csv', index_col=0).reset_index()"
   ]
  },
  {
   "cell_type": "code",
   "execution_count": 74,
   "metadata": {},
   "outputs": [],
   "source": [
    "# (FG + 0.5 * 3P) / FGA\n",
    "def off_eff_fg(df):\n",
    "    fgm = df['AVG_FG2M'] + df['AVG_FG3M']\n",
    "    fga = df['AVG_FG2A'] + df['AVG_FG3A']\n",
    "    fg3m = df['AVG_FG3M']\n",
    "    return (fgm + 0.5*fg3m)/fga\n",
    "\n",
    "def def_eff_fg(df):\n",
    "    fgm = df['AVG_FG2M_A'] + df['AVG_FG3M_A']\n",
    "    fga = df['AVG_FG2A_A'] + df['AVG_FG3A_A']\n",
    "    fg3m = df['AVG_FG3M_A']\n",
    "    return (fgm + 0.5*fg3m)/fga\n",
    "\n",
    "def opp_off_eff_fg(df):\n",
    "    fgm = df['OPP_AVG_FG2M'] + df['OPP_AVG_FG3M']\n",
    "    fga = df['OPP_AVG_FG2A'] + df['OPP_AVG_FG3A']\n",
    "    fg3m = df['OPP_AVG_FG3M']\n",
    "    return (fgm + 0.5*fg3m)/fga\n",
    "\n",
    "def opp_def_eff_fg(df):\n",
    "    fgm = df['OPP_AVG_FG2M_A'] + df['OPP_AVG_FG3M_A']\n",
    "    fga = df['OPP_AVG_FG2A_A'] + df['OPP_AVG_FG3A_A']\n",
    "    fg3m = df['OPP_AVG_FG3M_A']\n",
    "    return (fgm + 0.5*fg3m)/fga"
   ]
  },
  {
   "cell_type": "code",
   "execution_count": 75,
   "metadata": {},
   "outputs": [],
   "source": [
    "# TOV / (FGA + 0.44 * FTA + TOV)\n",
    "def off_tov_pct(df):\n",
    "    tov = df['AVG_TOV']\n",
    "    fta = df['AVG_FTA']\n",
    "    fga = df['AVG_FG2A'] + df['AVG_FG3A']\n",
    "    return tov/ (fga + 0.44*fta + tov)\n",
    "\n",
    "def def_tov_pct(df):\n",
    "    tov = df['AVG_TOV_A']\n",
    "    fta = df['AVG_FTA_A']\n",
    "    fga = df['AVG_FG2A_A'] + df['AVG_FG3A_A']\n",
    "    return tov/ (fga + 0.44*fta + tov)\n",
    "\n",
    "def opp_off_tov_pct(df):\n",
    "    tov = df['OPP_AVG_TOV']\n",
    "    fta = df['OPP_AVG_FTA']\n",
    "    fga = df['OPP_AVG_FG2A'] + df['OPP_AVG_FG3A']\n",
    "    return tov/ (fga + 0.44*fta + tov)\n",
    "\n",
    "def opp_def_tov_pct(df):\n",
    "    tov = df['OPP_AVG_TOV_A']\n",
    "    fta = df['OPP_AVG_FTA_A']\n",
    "    fga = df['OPP_AVG_FG2A_A'] + df['OPP_AVG_FG3A_A']\n",
    "    return tov/ (fga + 0.44*fta + tov)"
   ]
  },
  {
   "cell_type": "code",
   "execution_count": 76,
   "metadata": {},
   "outputs": [],
   "source": [
    "# ORB / (ORB + Opp DRB)\n",
    "def off_reb_pct(df):\n",
    "    oreb = df['AVG_OREB']\n",
    "    opp_dreb = df['AVG_DREB_A']\n",
    "    return oreb / (oreb + opp_dreb)\n",
    "\n",
    "def def_reb_pct(df):\n",
    "    dreb = df['AVG_DREB']\n",
    "    opp_oreb = df['AVG_OREB_A']\n",
    "    return dreb / (dreb + opp_oreb)\n",
    "\n",
    "def opp_off_reb_pct(df):\n",
    "    oreb = df['OPP_AVG_OREB']\n",
    "    opp_dreb = df['OPP_AVG_DREB_A']\n",
    "    return oreb / (oreb + opp_dreb)\n",
    "\n",
    "def opp_def_reb_pct(df):\n",
    "    dreb = df['OPP_AVG_DREB']\n",
    "    opp_oreb = df['OPP_AVG_OREB_A']\n",
    "    return dreb / (dreb + opp_oreb)"
   ]
  },
  {
   "cell_type": "code",
   "execution_count": 77,
   "metadata": {},
   "outputs": [],
   "source": [
    "# FT / FGA\n",
    "def off_ft_pct(df):\n",
    "    ftm = df['AVG_FTM']\n",
    "    fga = df['AVG_FG2A'] + df['AVG_FG3A']\n",
    "    return ftm / (fga)\n",
    "\n",
    "def def_ft_pct(df):\n",
    "    ftm = df['AVG_FTM_A']\n",
    "    fga = df['AVG_FG2A_A'] + df['AVG_FG3A_A']\n",
    "    return ftm / (fga)\n",
    "\n",
    "def opp_off_ft_pct(df):\n",
    "    ftm = df['OPP_AVG_FTM']\n",
    "    fga = df['OPP_AVG_FG2A'] + df['OPP_AVG_FG3A']\n",
    "    return ftm / (fga)\n",
    "\n",
    "def opp_def_ft_pct(df):\n",
    "    ftm = df['OPP_AVG_FTM_A']\n",
    "    fga = df['OPP_AVG_FG2A_A'] + df['OPP_AVG_FG3A_A']\n",
    "    return ftm / (fga)"
   ]
  },
  {
   "cell_type": "code",
   "execution_count": 78,
   "metadata": {},
   "outputs": [],
   "source": [
    "data['OFF_EFF_FG'] = off_eff_fg(data)\n",
    "data['OFF_TOV_PCT'] = off_tov_pct(data)\n",
    "data['OFF_REB_PCT'] = off_reb_pct(data)\n",
    "data['OFF_FT_PCT'] = off_ft_pct(data)\n",
    "\n",
    "data['DEF_EFF_FG'] = def_eff_fg(data)\n",
    "data['DEF_TOV_PCT'] = def_tov_pct(data)\n",
    "data['DEF_REB_PCT'] = def_reb_pct(data)\n",
    "data['DEF_FT_PCT'] = def_ft_pct(data)\n",
    "\n",
    "data['OPP_OFF_EFF_FG'] = opp_off_eff_fg(data)\n",
    "data['OPP_OFF_TOV_PCT'] = opp_off_tov_pct(data)\n",
    "data['OPP_OFF_REB_PCT'] = opp_off_reb_pct(data)\n",
    "data['OPP_OFF_FT_PCT'] = opp_off_ft_pct(data)\n",
    "\n",
    "data['OPP_DEF_EFF_FG'] = opp_def_eff_fg(data)\n",
    "data['OPP_DEF_TOV_PCT'] = opp_def_tov_pct(data)\n",
    "data['OPP_DEF_REB_PCT'] = opp_def_reb_pct(data)\n",
    "data['OPP_DEF_FT_PCT'] = opp_def_ft_pct(data)"
   ]
  },
  {
   "cell_type": "code",
   "execution_count": 79,
   "metadata": {},
   "outputs": [],
   "source": [
    "data.to_csv('dat/expanding_avg_1983-2017.csv')"
   ]
  },
  {
   "cell_type": "code",
   "execution_count": 65,
   "metadata": {},
   "outputs": [],
   "source": [
    "phi_2017 = data.loc[(data['SEASON_ID']==22017) & (data['TEAM_ABBREVIATION']=='PHI')].sort_values('GAME_DATE')"
   ]
  },
  {
   "cell_type": "code",
   "execution_count": 70,
   "metadata": {},
   "outputs": [
    {
     "data": {
      "text/plain": [
       "OFF_EFF_FG         False\n",
       "OFF_TOV_PCT        False\n",
       "OFF_REB_PCT        False\n",
       "OFF_FT_PCT         False\n",
       "DEF_EFF_FG         False\n",
       "DEF_TOV_PCT        False\n",
       "DEF_REB_PCT        False\n",
       "DEF_FT_PCT         False\n",
       "OPP_OFF_EFF_FG     False\n",
       "OPP_OFF_TOV_PCT    False\n",
       "OPP_OFF_REB_PCT    False\n",
       "OPP_OFF_FT_PCT     False\n",
       "OPP_DEF_EFF_FG     False\n",
       "OPP_DEF_TOV_PCT    False\n",
       "OPP_DEF_REB_PCT    False\n",
       "OPP_DEF_FT_PCT     False\n",
       "dtype: bool"
      ]
     },
     "execution_count": 70,
     "metadata": {},
     "output_type": "execute_result"
    }
   ],
   "source": [
    "phi_2017.iloc[1:][FF].isna().any()"
   ]
  }
 ],
 "metadata": {
  "kernelspec": {
   "display_name": "Python 3",
   "language": "python",
   "name": "python3"
  },
  "language_info": {
   "codemirror_mode": {
    "name": "ipython",
    "version": 3
   },
   "file_extension": ".py",
   "mimetype": "text/x-python",
   "name": "python",
   "nbconvert_exporter": "python",
   "pygments_lexer": "ipython3",
   "version": "3.6.2"
  }
 },
 "nbformat": 4,
 "nbformat_minor": 2
}
